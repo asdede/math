{
 "cells": [
  {
   "cell_type": "markdown",
   "id": "bec5b0e2-b16f-4d96-aef7-5fc189c0e90e",
   "metadata": {},
   "source": [
    "## Yhtälöryhmän ratkaisu numeerisilla menetelmillä\n",
    "$$\n",
    "\\begin{cases}\n",
    "f_1(x,y) = 0 \\\\\n",
    "f_2(x,y) = 0\n",
    "\\end{cases}\n",
    "$$\n",
    "\n",
    "\n",
    "\n",
    "Esimerkki$$\n",
    "\\begin{cases}\n",
    "x^2 + xy - 10 = 0 \\\\\n",
    "y + 3xy^2 - 57 = 0\n",
    "\\end{cases}\n",
    "$$\n"
   ]
  },
  {
   "cell_type": "markdown",
   "id": "7150fea1-9df3-4a63-a993-7521640230e3",
   "metadata": {},
   "source": [
    "$$\n",
    "\\begin{cases}\n",
    "f_1(x,y) + \\frac{\\partial f_1}{\\partial x} \\cdot \\Delta x + \\frac{\\partial f_1}{\\partial y} \\cdot \\Delta y \\\\\n",
    "f_2(x,y) + \\frac{\\partial f_2}{\\partial x} \\cdot \\Delta x + \\frac{\\partial f_2}{\\partial y} \\cdot \\Delta y\n",
    "\\end{cases}\n",
    "$$"
   ]
  },
  {
   "cell_type": "markdown",
   "id": "ec10e7bd-0189-4f38-9306-53f57aa6f6aa",
   "metadata": {
    "tags": []
   },
   "source": [
    "Matriisimuotoon => "
   ]
  },
  {
   "cell_type": "markdown",
   "id": "c638cf6a-2558-4462-af96-9bf783ea3df5",
   "metadata": {},
   "source": [
    "$$\n",
    "\\begin{pmatrix}\n",
    "\\Delta x \\\\\n",
    "\\Delta y\n",
    "\\end{pmatrix}\n",
    "= -J^{-1} \\begin{pmatrix} f_1(x,y) \\\\ f_2(x,y) \\end{pmatrix}\n",
    "$$\n",
    "\n"
   ]
  },
  {
   "cell_type": "markdown",
   "id": "48724208-95ea-42f6-84c5-ae4f21b786d4",
   "metadata": {},
   "source": [
    "1. Valitaan alkuarvaus p1 ja y_p1\n",
    "2. lasketaan delta x ja delta, kun x = p1 ja y = y_p1\n",
    "3. merkitaan p2 = p1 + delta x ja y_p1 0 delta y\n",
    "4. jatketaan samalla tavalla laskemalla delta x ja delta y, kun x = p2 ja y = y_p2"
   ]
  },
  {
   "cell_type": "markdown",
   "id": "ac4e6c26-b704-48ef-9054-181c75ba95f9",
   "metadata": {},
   "source": [
    "$$\n",
    "\\begin{pmatrix}\n",
    "\\Delta x \\\\\n",
    "\\Delta y\n",
    "\\end{pmatrix}^1\n",
    "= \\frac{1}{{\\det}} C^T = \\frac{1}{{ad-bc}} \\begin{pmatrix}\n",
    "+d & -c \\\\\n",
    "-b & +a \n",
    "\\end{pmatrix}^T\n",
    "= \\frac{i}{{ad-bc}} \\begin{pmatrix}\n",
    "d & -b \\\\\n",
    "-c & a \n",
    "\\end{pmatrix}\n",
    "$$\n",
    "\n"
   ]
  },
  {
   "cell_type": "code",
   "execution_count": 90,
   "id": "5e73d687-b1ad-43d0-be4a-cf0798848c8b",
   "metadata": {
    "tags": []
   },
   "outputs": [
    {
     "name": "stdout",
     "output_type": "stream",
     "text": [
      "Requirement already satisfied: sympy in /opt/conda/lib/python3.11/site-packages (1.12)\n",
      "Requirement already satisfied: mpmath>=0.19 in /opt/conda/lib/python3.11/site-packages (from sympy) (1.3.0)\n"
     ]
    }
   ],
   "source": [
    "!pip install sympy"
   ]
  },
  {
   "cell_type": "code",
   "execution_count": 101,
   "id": "4b6b4a1e-4ae7-42b5-9a7a-261848c89b25",
   "metadata": {
    "tags": []
   },
   "outputs": [],
   "source": [
    "from sympy import symbols, diff,solve,sin, cos\n",
    "import copy\n",
    "import math as m"
   ]
  },
  {
   "cell_type": "code",
   "execution_count": null,
   "id": "746e9ac3-3bbf-4c35-8d88-e7666e173721",
   "metadata": {},
   "outputs": [],
   "source": [
    "x,y = symbols('x y')\n",
    "f1 = sin(x)**2 - y**2 * x + 2*m.pi*y\n",
    "f2 = y*cos(x) + 2*sin(x/2)\n",
    "\n",
    "\n",
    "\n",
    "def get_derivates(x,y,funcs = []):\n",
    "    derivates  = [] # = [(x,y),(x,y),(x,y)]\n",
    "    for function in funcs:\n",
    "        fx = diff(function,x)\n",
    "        fy = diff(function,y)\n",
    "        derivates.append((fx,fy))\n",
    "    return derivates"
   ]
  },
  {
   "cell_type": "code",
   "execution_count": 123,
   "id": "a3e444a8-5418-4583-905a-183503214054",
   "metadata": {
    "tags": []
   },
   "outputs": [],
   "source": [
    "x,y = symbols('x y')\n",
    "f1 = sin(x)**2 - y**2 * x + 2*m.pi*y\n",
    "f2 = y*cos(x) + 2*sin(x/2)\n",
    "\n",
    "\n",
    "\n",
    "def get_derivates(f_1,f_2):\n",
    "    f_1_x = diff(f_1,x)\n",
    "    f_1_y = diff(f_1,y)\n",
    "    f_2_x = diff(f_2,x)\n",
    "    f_2_y = diff(f_2,y)\n",
    "    return f_1_x,f_1_y,f_2_x,f_2_y"
   ]
  },
  {
   "cell_type": "code",
   "execution_count": 124,
   "id": "90839a00-50ee-4a11-8f98-2ea57697913e",
   "metadata": {
    "tags": []
   },
   "outputs": [
    {
     "name": "stdout",
     "output_type": "stream",
     "text": [
      "-y**2 + 2*sin(x)*cos(x) | -2*x*y + 6.28318530717959 | -y*sin(x) + cos(x/2) | cos(x)\n"
     ]
    }
   ],
   "source": [
    "f1x,f1y,f2x,f2y = get_derivates(f1,f2)\n",
    "print(f1x,\"|\",f1y,\"|\",f2x,\"|\",f2y)"
   ]
  },
  {
   "cell_type": "code",
   "execution_count": null,
   "id": "49c12570-7380-49ee-88f8-99ebdfb2d3ca",
   "metadata": {},
   "outputs": [],
   "source": [
    "derivates = get_derivates(x,y,[f1,f2])\n",
    "print(derivates)"
   ]
  },
  {
   "cell_type": "code",
   "execution_count": 125,
   "id": "d559e061-520e-4fbc-b5d3-d42fb6c1f0ab",
   "metadata": {
    "tags": []
   },
   "outputs": [
    {
     "data": {
      "text/latex": [
       "$\\displaystyle 0.54030230586814$"
      ],
      "text/plain": [
       "0.540302305868140"
      ]
     },
     "execution_count": 125,
     "metadata": {},
     "output_type": "execute_result"
    }
   ],
   "source": [
    "def c(f,x_val,y_val):\n",
    "    temp_f = copy.deepcopy(f)\n",
    "    ans = temp_f.subs({x: x_val, y: y_val}).evalf()\n",
    "    return ans\n",
    "c(f2y,1,1)"
   ]
  },
  {
   "cell_type": "code",
   "execution_count": null,
   "id": "d4171edd-f3a3-4c0b-a878-f46e8dcb043b",
   "metadata": {},
   "outputs": [],
   "source": [
    "def solve_problemo(d,f):\n",
    "    p = 3\n",
    "    q = 3\n",
    "    N = 100\n",
    "    i = 0\n",
    "    while i<N:\n",
    "        dx -(c(d[2],p,q) * c(f[0],p,q) - c(d[0][1]\n",
    "    "
   ]
  },
  {
   "cell_type": "code",
   "execution_count": 126,
   "id": "c4473a28-761b-400f-8829-8fe8915bf8bd",
   "metadata": {
    "tags": []
   },
   "outputs": [
    {
     "name": "stdout",
     "output_type": "stream",
     "text": [
      "Iteraatio : 1 \t x= 3.66758224142361 \t y=  1.77737229829596\n",
      "Iteraatio : 2 \t x= 3.21881181983105 \t y=  1.90492723085153\n",
      "Iteraatio : 3 \t x= 3.14592634364683 \t y=  1.99656188052463\n",
      "Iteraatio : 4 \t x= 3.14160432409967 \t y=  1.99998605456063\n",
      "Iteraatio : 5 \t x= 3.14159265370619 \t y=  1.99999999989785\n",
      "Iteraatio : 6 \t x= 3.14159265358979 \t y=  2.00000000000000\n",
      "Iteraatio : 7 \t x= 3.14159265358979 \t y=  2.00000000000000\n",
      "Iteraatio : 8 \t x= 3.14159265358979 \t y=  2.00000000000000\n",
      "Iteraatio : 9 \t x= 3.14159265358979 \t y=  2.00000000000000\n",
      "Iteraatio : 10 \t x= 3.14159265358979 \t y=  2.00000000000000\n",
      "Iteraatio : 11 \t x= 3.14159265358979 \t y=  2.00000000000000\n",
      "Iteraatio : 12 \t x= 3.14159265358979 \t y=  2.00000000000000\n",
      "Iteraatio : 13 \t x= 3.14159265358979 \t y=  2.00000000000000\n",
      "Iteraatio : 14 \t x= 3.14159265358979 \t y=  2.00000000000000\n",
      "Iteraatio : 15 \t x= 3.14159265358979 \t y=  2.00000000000000\n",
      "Iteraatio : 16 \t x= 3.14159265358979 \t y=  2.00000000000000\n",
      "Iteraatio : 17 \t x= 3.14159265358979 \t y=  2.00000000000000\n",
      "Iteraatio : 18 \t x= 3.14159265358979 \t y=  2.00000000000000\n",
      "Iteraatio : 19 \t x= 3.14159265358979 \t y=  2.00000000000000\n",
      "Iteraatio : 20 \t x= 3.14159265358979 \t y=  2.00000000000000\n",
      "Iteraatio : 21 \t x= 3.14159265358979 \t y=  2.00000000000000\n",
      "Iteraatio : 22 \t x= 3.14159265358979 \t y=  2.00000000000000\n",
      "Iteraatio : 23 \t x= 3.14159265358979 \t y=  2.00000000000000\n",
      "Iteraatio : 24 \t x= 3.14159265358979 \t y=  2.00000000000000\n",
      "Iteraatio : 25 \t x= 3.14159265358979 \t y=  2.00000000000000\n",
      "Iteraatio : 26 \t x= 3.14159265358979 \t y=  2.00000000000000\n",
      "Iteraatio : 27 \t x= 3.14159265358979 \t y=  2.00000000000000\n",
      "Iteraatio : 28 \t x= 3.14159265358979 \t y=  2.00000000000000\n",
      "Iteraatio : 29 \t x= 3.14159265358979 \t y=  2.00000000000000\n",
      "Iteraatio : 30 \t x= 3.14159265358979 \t y=  2.00000000000000\n",
      "Iteraatio : 31 \t x= 3.14159265358979 \t y=  2.00000000000000\n",
      "Iteraatio : 32 \t x= 3.14159265358979 \t y=  2.00000000000000\n",
      "Iteraatio : 33 \t x= 3.14159265358979 \t y=  2.00000000000000\n",
      "Iteraatio : 34 \t x= 3.14159265358979 \t y=  2.00000000000000\n",
      "Iteraatio : 35 \t x= 3.14159265358979 \t y=  2.00000000000000\n",
      "Iteraatio : 36 \t x= 3.14159265358979 \t y=  2.00000000000000\n",
      "Iteraatio : 37 \t x= 3.14159265358979 \t y=  2.00000000000000\n",
      "Iteraatio : 38 \t x= 3.14159265358979 \t y=  2.00000000000000\n",
      "Iteraatio : 39 \t x= 3.14159265358979 \t y=  2.00000000000000\n",
      "Iteraatio : 40 \t x= 3.14159265358979 \t y=  2.00000000000000\n",
      "Iteraatio : 41 \t x= 3.14159265358979 \t y=  2.00000000000000\n",
      "Iteraatio : 42 \t x= 3.14159265358979 \t y=  2.00000000000000\n",
      "Iteraatio : 43 \t x= 3.14159265358979 \t y=  2.00000000000000\n",
      "Iteraatio : 44 \t x= 3.14159265358979 \t y=  2.00000000000000\n",
      "Iteraatio : 45 \t x= 3.14159265358979 \t y=  2.00000000000000\n",
      "Iteraatio : 46 \t x= 3.14159265358979 \t y=  2.00000000000000\n",
      "Iteraatio : 47 \t x= 3.14159265358979 \t y=  2.00000000000000\n",
      "Iteraatio : 48 \t x= 3.14159265358979 \t y=  2.00000000000000\n",
      "Iteraatio : 49 \t x= 3.14159265358979 \t y=  2.00000000000000\n",
      "Iteraatio : 50 \t x= 3.14159265358979 \t y=  2.00000000000000\n",
      "Iteraatio : 51 \t x= 3.14159265358979 \t y=  2.00000000000000\n",
      "Iteraatio : 52 \t x= 3.14159265358979 \t y=  2.00000000000000\n",
      "Iteraatio : 53 \t x= 3.14159265358979 \t y=  2.00000000000000\n",
      "Iteraatio : 54 \t x= 3.14159265358979 \t y=  2.00000000000000\n",
      "Iteraatio : 55 \t x= 3.14159265358979 \t y=  2.00000000000000\n",
      "Iteraatio : 56 \t x= 3.14159265358979 \t y=  2.00000000000000\n",
      "Iteraatio : 57 \t x= 3.14159265358979 \t y=  2.00000000000000\n",
      "Iteraatio : 58 \t x= 3.14159265358979 \t y=  2.00000000000000\n",
      "Iteraatio : 59 \t x= 3.14159265358979 \t y=  2.00000000000000\n",
      "Iteraatio : 60 \t x= 3.14159265358979 \t y=  2.00000000000000\n",
      "Iteraatio : 61 \t x= 3.14159265358979 \t y=  2.00000000000000\n",
      "Iteraatio : 62 \t x= 3.14159265358979 \t y=  2.00000000000000\n",
      "Iteraatio : 63 \t x= 3.14159265358979 \t y=  2.00000000000000\n",
      "Iteraatio : 64 \t x= 3.14159265358979 \t y=  2.00000000000000\n",
      "Iteraatio : 65 \t x= 3.14159265358979 \t y=  2.00000000000000\n",
      "Iteraatio : 66 \t x= 3.14159265358979 \t y=  2.00000000000000\n",
      "Iteraatio : 67 \t x= 3.14159265358979 \t y=  2.00000000000000\n",
      "Iteraatio : 68 \t x= 3.14159265358979 \t y=  2.00000000000000\n",
      "Iteraatio : 69 \t x= 3.14159265358979 \t y=  2.00000000000000\n",
      "Iteraatio : 70 \t x= 3.14159265358979 \t y=  2.00000000000000\n",
      "Iteraatio : 71 \t x= 3.14159265358979 \t y=  2.00000000000000\n",
      "Iteraatio : 72 \t x= 3.14159265358979 \t y=  2.00000000000000\n",
      "Iteraatio : 73 \t x= 3.14159265358979 \t y=  2.00000000000000\n",
      "Iteraatio : 74 \t x= 3.14159265358979 \t y=  2.00000000000000\n",
      "Iteraatio : 75 \t x= 3.14159265358979 \t y=  2.00000000000000\n",
      "Iteraatio : 76 \t x= 3.14159265358979 \t y=  2.00000000000000\n",
      "Iteraatio : 77 \t x= 3.14159265358979 \t y=  2.00000000000000\n",
      "Iteraatio : 78 \t x= 3.14159265358979 \t y=  2.00000000000000\n",
      "Iteraatio : 79 \t x= 3.14159265358979 \t y=  2.00000000000000\n",
      "Iteraatio : 80 \t x= 3.14159265358979 \t y=  2.00000000000000\n",
      "Iteraatio : 81 \t x= 3.14159265358979 \t y=  2.00000000000000\n",
      "Iteraatio : 82 \t x= 3.14159265358979 \t y=  2.00000000000000\n",
      "Iteraatio : 83 \t x= 3.14159265358979 \t y=  2.00000000000000\n",
      "Iteraatio : 84 \t x= 3.14159265358979 \t y=  2.00000000000000\n",
      "Iteraatio : 85 \t x= 3.14159265358979 \t y=  2.00000000000000\n",
      "Iteraatio : 86 \t x= 3.14159265358979 \t y=  2.00000000000000\n",
      "Iteraatio : 87 \t x= 3.14159265358979 \t y=  2.00000000000000\n",
      "Iteraatio : 88 \t x= 3.14159265358979 \t y=  2.00000000000000\n",
      "Iteraatio : 89 \t x= 3.14159265358979 \t y=  2.00000000000000\n",
      "Iteraatio : 90 \t x= 3.14159265358979 \t y=  2.00000000000000\n",
      "Iteraatio : 91 \t x= 3.14159265358979 \t y=  2.00000000000000\n",
      "Iteraatio : 92 \t x= 3.14159265358979 \t y=  2.00000000000000\n",
      "Iteraatio : 93 \t x= 3.14159265358979 \t y=  2.00000000000000\n",
      "Iteraatio : 94 \t x= 3.14159265358979 \t y=  2.00000000000000\n",
      "Iteraatio : 95 \t x= 3.14159265358979 \t y=  2.00000000000000\n",
      "Iteraatio : 96 \t x= 3.14159265358979 \t y=  2.00000000000000\n",
      "Iteraatio : 97 \t x= 3.14159265358979 \t y=  2.00000000000000\n",
      "Iteraatio : 98 \t x= 3.14159265358979 \t y=  2.00000000000000\n",
      "Iteraatio : 99 \t x= 3.14159265358979 \t y=  2.00000000000000\n",
      "Iteraatio : 100 \t x= 3.14159265358979 \t y=  2.00000000000000\n"
     ]
    }
   ],
   "source": [
    "p = 3\n",
    "q= 3\n",
    "i = 0\n",
    "N_iter = 100\n",
    "\n",
    "while i<N_iter:\n",
    "    i+=1\n",
    "    \n",
    "    dx=-(c(f2y,p,q)*c(f1,p,q)-c(f1y,p,q)*c(f2,p,q))/(c(f1x,p,q)*c(f2y,p,q)-c(f1y,p,q)*c(f2x,p,q))   # Delta x = päivitys x-suunnassa\n",
    "    dy=-(c(-f2x,p,q)*c(f1,p,q)+c(f1x,p,q)*c(f2,p,q))/(c(f1x,p,q)*c(f2y,p,q)-c(f1y,p,q)*c(f2x,p,q))  # Delta y = päivitys y-suunnassa\n",
    "    \n",
    "       \n",
    "    p+=dx\n",
    "    q+=dy\n",
    "    \n",
    "    print('Iteraatio :',i,'\\t x=',p,'\\t y= ',q)"
   ]
  },
  {
   "cell_type": "code",
   "execution_count": null,
   "id": "c3f42941-a9a6-4453-b7a1-6d8de865621d",
   "metadata": {},
   "outputs": [],
   "source": []
  }
 ],
 "metadata": {
  "kernelspec": {
   "display_name": "Python 3 (ipykernel)",
   "language": "python",
   "name": "python3"
  },
  "language_info": {
   "codemirror_mode": {
    "name": "ipython",
    "version": 3
   },
   "file_extension": ".py",
   "mimetype": "text/x-python",
   "name": "python",
   "nbconvert_exporter": "python",
   "pygments_lexer": "ipython3",
   "version": "3.11.6"
  }
 },
 "nbformat": 4,
 "nbformat_minor": 5
}
